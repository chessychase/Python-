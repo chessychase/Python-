{
 "cells": [
  {
   "cell_type": "markdown",
   "id": "d4e99930",
   "metadata": {},
   "source": [
    "# Welcome to Python!\n",
    "\n",
    "    Hello, and welcome to python! I hope you will learn a lot of Python along the way. Let's get started!"
   ]
  },
  {
   "cell_type": "markdown",
   "id": "f955621c",
   "metadata": {},
   "source": [
    "# Variables!\n",
    "\n",
    "    We will start about learning how to change values of different variables. "
   ]
  },
  {
   "cell_type": "code",
   "execution_count": 68,
   "id": "5ca0d57b",
   "metadata": {},
   "outputs": [
    {
     "name": "stdout",
     "output_type": "stream",
     "text": [
      "17\n"
     ]
    }
   ],
   "source": [
    "Aditi_Age = 16 # This was your age last year. Here, we are defining the variable, Aditi_Age. \n",
    "Aditi_Age = 17 # Now, since a year has passed we change the value of the variable. Python always chooses the most recent value of your variable.  \n",
    "print(Aditi_Age) # Here, we print your current age. "
   ]
  },
  {
   "cell_type": "markdown",
   "id": "38ecbf28",
   "metadata": {},
   "source": [
    "# Multiple Assignment\n",
    "\n",
    "    Again, this is pretty simple and extremely basic python. "
   ]
  },
  {
   "cell_type": "code",
   "execution_count": 69,
   "id": "4c30c5ff",
   "metadata": {},
   "outputs": [
    {
     "name": "stdout",
     "output_type": "stream",
     "text": [
      "Ashvant\n",
      "Aditi\n",
      "Daniel\n"
     ]
    }
   ],
   "source": [
    "person1, person2, person3 = \"Ashvant\", \"Aditi\", \"Daniel\" # The quotation marks represent strings. This is multiple assignment meaning that person1 is Ashvant, person2 is Aditi, and person3 is Daniel. \n",
    "print(person1)\n",
    "print(person2)\n",
    "print(person3)"
   ]
  },
  {
   "cell_type": "markdown",
   "id": "46419ffa",
   "metadata": {},
   "source": [
    "# Math in Python\n",
    "\n",
    "     We will be learning simple arithmetic, exponents, and modular arithmetic(remainder), which we will do in python. "
   ]
  },
  {
   "cell_type": "code",
   "execution_count": 70,
   "id": "6e0ce519",
   "metadata": {},
   "outputs": [
    {
     "name": "stdout",
     "output_type": "stream",
     "text": [
      "10\n",
      "9\n",
      "20\n",
      "2.0\n",
      "1125899906842624\n",
      "1\n"
     ]
    }
   ],
   "source": [
    "print(5+5) # This is just simple addition, I HOPE I don't have to explain this to you. \n",
    "print(10-1) # This is just simple subtraction, I HOPE I don't have to explain this to you. \n",
    "print(5*4) # This is just simple multiplication, I HOPE I don't have to explain this to you.\n",
    "print(8/4) # This is just simple division, I HOPE I don't have to explain this to you.\n",
    "print(2**50) # This number is enormous. This represents 2^50.\n",
    "print(21%4) # This is just the remainder of 21/4. "
   ]
  },
  {
   "cell_type": "markdown",
   "id": "26b73205",
   "metadata": {},
   "source": [
    "# Strings\n",
    "\n",
    "    Strings are usually known as sequences of letters/characters. "
   ]
  },
  {
   "cell_type": "markdown",
   "id": "a771d3f3",
   "metadata": {},
   "source": [
    "### Adding Strings"
   ]
  },
  {
   "cell_type": "code",
   "execution_count": 71,
   "id": "849ca900",
   "metadata": {},
   "outputs": [
    {
     "name": "stdout",
     "output_type": "stream",
     "text": [
      "Ashvant Daniel\n"
     ]
    }
   ],
   "source": [
    "firstName = \"Ashvant\" # The Quotation Marks represent a string. \n",
    "lastName = \"Daniel\"\n",
    "fullName = firstName + \" \" + lastName # This adds the two strings together, and puts a space in between my first and last name. \n",
    "print(fullName)"
   ]
  },
  {
   "cell_type": "markdown",
   "id": "099a2a7e",
   "metadata": {},
   "source": [
    "### Indexes"
   ]
  },
  {
   "cell_type": "code",
   "execution_count": 72,
   "id": "e0ca4554",
   "metadata": {},
   "outputs": [
    {
     "name": "stdout",
     "output_type": "stream",
     "text": [
      "e\n",
      " \n",
      "Hello\n",
      "World\n"
     ]
    }
   ],
   "source": [
    "Hi = \"Hello World\"\n",
    "print(Hi[1]) # This is an index. The 0th Index is the first character, 1st Index is the second character and so on. Index 1 is the second character which is e.\n",
    "print(Hi[5]) # The 5th Index, will be the sixth character which is just a space. As shown in results, it is blank, below the e.\n",
    "print(Hi[0:5]) # When we have indexes in the form [x:y], we go from the xth index to the (y-1)th index. The 0th Index is H, and the 4th Index is o, so it results in Hello.\n",
    "print(Hi[6:]) # When we have indexes in the form [x:], then we go from the xth index, till the last character. The 6th Index is W, so it results in World. \n"
   ]
  },
  {
   "cell_type": "markdown",
   "id": "9a3b39fd",
   "metadata": {},
   "source": [
    "# Placeholders!\n",
    "\n",
    "   These can be especially helpful when sending loads of emails, where all you need to do is change the name of the recipient. "
   ]
  },
  {
   "cell_type": "code",
   "execution_count": 73,
   "id": "85fc915a",
   "metadata": {},
   "outputs": [
    {
     "name": "stdout",
     "output_type": "stream",
     "text": [
      "Hello Ashvant, you are a pro.\n"
     ]
    }
   ],
   "source": [
    "Pro = \"Hello %s, you are a pro.\" # %s is a placeholder(Only Works for s!), which can be replaced by anything. \n",
    "print(Pro%(\"Ashvant\")) # Here it is replaced with me, the absolute pro!"
   ]
  },
  {
   "cell_type": "markdown",
   "id": "6ddbb3f5",
   "metadata": {},
   "source": [
    "# Lists!\n",
    "\n",
    "    Lists are used to store collections of items. "
   ]
  },
  {
   "cell_type": "code",
   "execution_count": 74,
   "id": "ada99ce9",
   "metadata": {},
   "outputs": [
    {
     "name": "stdout",
     "output_type": "stream",
     "text": [
      "cheese\n"
     ]
    }
   ],
   "source": [
    "shopping = [\"bread\",\"milk\",\"cheese\",\"muffins\"]\n",
    "print(shopping[2]) # We already know indexes, 0th Index is bread, 1st Index is milk, and so on.  "
   ]
  },
  {
   "cell_type": "markdown",
   "id": "b1a94116",
   "metadata": {},
   "source": [
    "# List Functions!"
   ]
  },
  {
   "cell_type": "markdown",
   "id": "a19dab3d",
   "metadata": {},
   "source": [
    "### Deleting Items in Lists"
   ]
  },
  {
   "cell_type": "code",
   "execution_count": 75,
   "id": "802fad52",
   "metadata": {},
   "outputs": [
    {
     "name": "stdout",
     "output_type": "stream",
     "text": [
      "['bread', 'milk', 'cheese', 'apples']\n"
     ]
    }
   ],
   "source": [
    "shopping = [\"bread\",\"milk\",\"cheese\",\"muffins\",\"apples\"] # This is a list. \n",
    "del shopping[3] # This deletes Index 3 in Shopping which is muffin.\n",
    "print(shopping)"
   ]
  },
  {
   "cell_type": "markdown",
   "id": "0d41cfa0",
   "metadata": {},
   "source": [
    "### Finding the Number of Items in a List"
   ]
  },
  {
   "cell_type": "code",
   "execution_count": 76,
   "id": "64e64d2c",
   "metadata": {},
   "outputs": [
    {
     "name": "stdout",
     "output_type": "stream",
     "text": [
      "4\n"
     ]
    }
   ],
   "source": [
    "shopping = [\"bread\",\"milk\",\"cheese\",\"apples\"] # This is a list.\n",
    "print(len(shopping)) # The Len Function determines the Number of Items in a List. "
   ]
  },
  {
   "cell_type": "markdown",
   "id": "8034aa55",
   "metadata": {},
   "source": [
    "### Maximum/Minimum of a List\n",
    "\n",
    "    Given a list of numbers, we can determine the maximum and minimum with Python. "
   ]
  },
  {
   "cell_type": "code",
   "execution_count": 77,
   "id": "74a1ccf4",
   "metadata": {},
   "outputs": [
    {
     "name": "stdout",
     "output_type": "stream",
     "text": [
      "1000\n",
      "1\n"
     ]
    }
   ],
   "source": [
    "Numbers = [5, 11, 7, 22, 59, 111, 10, 1, 3, 1000] # This is a list. \n",
    "print(max(Numbers)) # This prints the maximum of the list of numbers which is 1000. \n",
    "print(min(Numbers)) #This prints the minimum of the list of numbers which is 1. "
   ]
  },
  {
   "cell_type": "markdown",
   "id": "6334b2f2",
   "metadata": {},
   "source": [
    "### Adding Items to a List"
   ]
  },
  {
   "cell_type": "code",
   "execution_count": 78,
   "id": "e50d23ea",
   "metadata": {},
   "outputs": [
    {
     "name": "stdout",
     "output_type": "stream",
     "text": [
      "['bread', 'milk', 'cheese', 'apples', 'Chocolate Chip Cookie']\n"
     ]
    }
   ],
   "source": [
    "shopping = [\"bread\",\"milk\",\"cheese\",\"apples\"] # This is a list.\n",
    "shopping.append(\"Chocolate Chip Cookie\") # This adds Chocalate Chip Cookie to the list. \n",
    "print(shopping)"
   ]
  },
  {
   "cell_type": "markdown",
   "id": "d50e61cc",
   "metadata": {},
   "source": [
    "# Dictionaries\n",
    "\n",
    "    Dictionaries help store strings and values. "
   ]
  },
  {
   "cell_type": "code",
   "execution_count": 79,
   "id": "d9215540",
   "metadata": {},
   "outputs": [
    {
     "name": "stdout",
     "output_type": "stream",
     "text": [
      "12\n",
      "{'Ashvant': 12, 'Aditi': 18, 'Radhika': 25, 'Daniel': 47}\n"
     ]
    }
   ],
   "source": [
    "students = {\"Ashvant\":12,\"Aditi\":17, \"Radhika\":25, \"Daniel\":47} # This is a dictionary.\n",
    "print(students[\"Ashvant\"]) # This prints the value of Ashvant in our dictionary, which is 12. \n",
    "students[\"Aditi\"] = 18 # This changes the value of Aditi in the Dictionary. \n",
    "print(students)"
   ]
  },
  {
   "cell_type": "markdown",
   "id": "74024519",
   "metadata": {},
   "source": [
    "# Dictionary Functions!"
   ]
  },
  {
   "cell_type": "markdown",
   "id": "ed148d54",
   "metadata": {},
   "source": [
    "### Deleting Values in Dictionaries"
   ]
  },
  {
   "cell_type": "code",
   "execution_count": 80,
   "id": "a4b1ce5d",
   "metadata": {},
   "outputs": [
    {
     "name": "stdout",
     "output_type": "stream",
     "text": [
      "{'Ashvant': 12, 'Radhika': 25, 'Daniel': 47}\n"
     ]
    }
   ],
   "source": [
    "students = {\"Ashvant\":12,\"Aditi\":17, \"Radhika\":25, \"Daniel\":47} # This is a dictionary.\n",
    "del students[\"Aditi\"] # This deletes Aditi from the dictionary. \n",
    "print(students)"
   ]
  },
  {
   "cell_type": "markdown",
   "id": "63213514",
   "metadata": {},
   "source": [
    "### Clearing Dictionaries"
   ]
  },
  {
   "cell_type": "code",
   "execution_count": 81,
   "id": "2706dbf9",
   "metadata": {},
   "outputs": [
    {
     "name": "stdout",
     "output_type": "stream",
     "text": [
      "{}\n"
     ]
    }
   ],
   "source": [
    "students = {\"Ashvant\":12,\"Aditi\":17, \"Radhika\":25, \"Daniel\":47} # This is a dictionary.\n",
    "students.clear() # This makes the dictionary completely blank. \n",
    "print(students) # As we see, the dictionary is now blank. "
   ]
  },
  {
   "cell_type": "markdown",
   "id": "218c6521",
   "metadata": {},
   "source": [
    "### Deleting Dictionaries"
   ]
  },
  {
   "cell_type": "code",
   "execution_count": 82,
   "id": "fd7a3104",
   "metadata": {},
   "outputs": [
    {
     "ename": "NameError",
     "evalue": "name 'students' is not defined",
     "output_type": "error",
     "traceback": [
      "\u001b[1;31m---------------------------------------------------------------------------\u001b[0m",
      "\u001b[1;31mNameError\u001b[0m                                 Traceback (most recent call last)",
      "\u001b[1;32m<ipython-input-82-d16b06176915>\u001b[0m in \u001b[0;36m<module>\u001b[1;34m\u001b[0m\n\u001b[0;32m      1\u001b[0m \u001b[0mstudents\u001b[0m \u001b[1;33m=\u001b[0m \u001b[1;33m{\u001b[0m\u001b[1;34m\"Ashvant\"\u001b[0m\u001b[1;33m:\u001b[0m\u001b[1;36m12\u001b[0m\u001b[1;33m,\u001b[0m\u001b[1;34m\"Aditi\"\u001b[0m\u001b[1;33m:\u001b[0m\u001b[1;36m17\u001b[0m\u001b[1;33m,\u001b[0m \u001b[1;34m\"Radhika\"\u001b[0m\u001b[1;33m:\u001b[0m\u001b[1;36m25\u001b[0m\u001b[1;33m,\u001b[0m \u001b[1;34m\"Daniel\"\u001b[0m\u001b[1;33m:\u001b[0m\u001b[1;36m47\u001b[0m\u001b[1;33m}\u001b[0m \u001b[1;31m# This is a dictionary.\u001b[0m\u001b[1;33m\u001b[0m\u001b[1;33m\u001b[0m\u001b[0m\n\u001b[0;32m      2\u001b[0m \u001b[1;32mdel\u001b[0m \u001b[0mstudents\u001b[0m \u001b[1;31m# Now, the dictionary does not exist anymore.\u001b[0m\u001b[1;33m\u001b[0m\u001b[1;33m\u001b[0m\u001b[0m\n\u001b[1;32m----> 3\u001b[1;33m \u001b[0mprint\u001b[0m\u001b[1;33m(\u001b[0m\u001b[0mstudents\u001b[0m\u001b[1;33m)\u001b[0m \u001b[1;31m#As we see, Python says students is not defined, because it does not exist anymore.\u001b[0m\u001b[1;33m\u001b[0m\u001b[1;33m\u001b[0m\u001b[0m\n\u001b[0m",
      "\u001b[1;31mNameError\u001b[0m: name 'students' is not defined"
     ]
    }
   ],
   "source": [
    "students = {\"Ashvant\":12,\"Aditi\":17, \"Radhika\":25, \"Daniel\":47} # This is a dictionary.\n",
    "del students # Now, the dictionary does not exist anymore.\n",
    "print(students) #As we see, Python says students is not defined, because it does not exist anymore. "
   ]
  },
  {
   "cell_type": "markdown",
   "id": "b5dfe592",
   "metadata": {},
   "source": [
    "### Number of Objects in Dictionaries!"
   ]
  },
  {
   "cell_type": "code",
   "execution_count": 83,
   "id": "132ccc91",
   "metadata": {},
   "outputs": [
    {
     "name": "stdout",
     "output_type": "stream",
     "text": [
      "4\n"
     ]
    }
   ],
   "source": [
    "students = {\"Ashvant\":12,\"Aditi\":17, \"Radhika\":25, \"Daniel\":47} # This is a dictionary.\n",
    "print(len(students)) # This works with dictionaries just like lists. It determines the number of objects in the dictionary. "
   ]
  },
  {
   "cell_type": "markdown",
   "id": "da4a5923",
   "metadata": {},
   "source": [
    "# Tuples\n",
    "\n",
    "    Tuples are used to store data and information. You cannot add or delete any value in a tuple!"
   ]
  },
  {
   "cell_type": "code",
   "execution_count": 84,
   "id": "410452f4",
   "metadata": {},
   "outputs": [
    {
     "name": "stdout",
     "output_type": "stream",
     "text": [
      "Math\n"
     ]
    }
   ],
   "source": [
    "Cool = (\"Math\", \"Chess\", \"Python\") # This is a tuple. \n",
    "print(Cool[0]) # If you forgot about indexes, scroll up and read that. You can also use indexes in tuples!"
   ]
  },
  {
   "cell_type": "markdown",
   "id": "3b17f060",
   "metadata": {},
   "source": [
    "# Basic If-Else Statements"
   ]
  },
  {
   "cell_type": "code",
   "execution_count": 85,
   "id": "845f8239",
   "metadata": {},
   "outputs": [
    {
     "name": "stdout",
     "output_type": "stream",
     "text": [
      "Ashvant Daniel is a pro!\n"
     ]
    }
   ],
   "source": [
    "if 5>2:\n",
    "    print(\"Ashvant Daniel is a pro!\")\n",
    "else:\n",
    "    print(\"Aditi Daniel is a pro!\") # I think this program is pretty self-explanatory :). "
   ]
  },
  {
   "cell_type": "markdown",
   "id": "d1acb87d",
   "metadata": {},
   "source": [
    "# Nested If-Else Statements!\n",
    "\n",
    "    These are more complicated If-Else Statements. "
   ]
  },
  {
   "cell_type": "code",
   "execution_count": 2,
   "id": "94505803",
   "metadata": {},
   "outputs": [
    {
     "name": "stdout",
     "output_type": "stream",
     "text": [
      "Oh, what a noob!\n"
     ]
    }
   ],
   "source": [
    "name = \"Aditi\"\n",
    "age = 17\n",
    "if age > 14: \n",
    "    if name == \"Aditi\": # In If-Else Statements, you write the equals sign with 2 of them. \n",
    "        print(\"Oh, Aditi the noob!\")\n",
    "    else:\n",
    "        print(\"Aditi is a pro!\") # Obviously this won't print, so even the computer knows you are a noob!"
   ]
  },
  {
   "cell_type": "markdown",
   "id": "62bab70e",
   "metadata": {},
   "source": [
    "# Elif Statements\n",
    "\n",
    "    These are another type of If-Else Statements. "
   ]
  },
  {
   "cell_type": "code",
   "execution_count": 8,
   "id": "acdaaecc",
   "metadata": {},
   "outputs": [
    {
     "name": "stdout",
     "output_type": "stream",
     "text": [
      "What weekday is it, today? Friday\n",
      "Sunny\n"
     ]
    }
   ],
   "source": [
    "day = input('What weekday is it, today? ') # We take the output and use it in an If-Else Statement. \n",
    "\n",
    "if day == \"Monday\":\n",
    "    print(\"Cloudy\")\n",
    "elif day == \"Tuesday\":\n",
    "    print(\"Cloudy\")\n",
    "elif day == \"Wednesday\":\n",
    "    print(\"AM Clouds, PM Sun\")\n",
    "elif day == \"Thursday\":\n",
    "    print(\"Partly Cloudy\")\n",
    "else:\n",
    "    print(\"Sunny\")"
   ]
  },
  {
   "cell_type": "markdown",
   "id": "1051e97d",
   "metadata": {},
   "source": [
    "# Logical Operators\n",
    "\n",
    "    And/Or are Logical Operators used in if statements. "
   ]
  },
  {
   "cell_type": "markdown",
   "id": "8c0e951a",
   "metadata": {},
   "source": [
    "### And: "
   ]
  },
  {
   "cell_type": "code",
   "execution_count": 10,
   "id": "32764bed",
   "metadata": {},
   "outputs": [
    {
     "name": "stdout",
     "output_type": "stream",
     "text": [
      "Elligible!\n"
     ]
    }
   ],
   "source": [
    "age = 12\n",
    "name = \"Ashvant\"\n",
    "if age > 10 and name == \"Ashvant\":\n",
    "    print(\"Elligible!\") # In order to print Elligible it must satisfy BOTH conditions. "
   ]
  },
  {
   "cell_type": "markdown",
   "id": "22e319cc",
   "metadata": {},
   "source": [
    "### Or: "
   ]
  },
  {
   "cell_type": "code",
   "execution_count": 11,
   "id": "0ea8e3c2",
   "metadata": {},
   "outputs": [
    {
     "name": "stdout",
     "output_type": "stream",
     "text": [
      "Elligible!\n"
     ]
    }
   ],
   "source": [
    "age = 17\n",
    "name = \"Aditi\"\n",
    "if age > 16 or name == \"Ashvant\":\n",
    "    print(\"Elligible!\") # In order to print Elligible it must satisfy AT LEAST ONE condition. "
   ]
  },
  {
   "cell_type": "markdown",
   "id": "81054c3f",
   "metadata": {},
   "source": [
    "# For Loops!"
   ]
  },
  {
   "cell_type": "code",
   "execution_count": 14,
   "id": "ba0d3b3a",
   "metadata": {},
   "outputs": [
    {
     "name": "stdout",
     "output_type": "stream",
     "text": [
      "0\n",
      "1\n",
      "2\n",
      "3\n",
      "4\n"
     ]
    }
   ],
   "source": [
    "for i in range(0, 5): # This ignores the 5, and prints numbers 0-4. \n",
    "    print(i)"
   ]
  },
  {
   "cell_type": "code",
   "execution_count": 16,
   "id": "f8b7ffec",
   "metadata": {},
   "outputs": [
    {
     "name": "stdout",
     "output_type": "stream",
     "text": [
      "pro\n",
      "noob\n",
      "casual\n"
     ]
    }
   ],
   "source": [
    "students = [\"pro\", \"noob\", \"casual\"] # This is a list. \n",
    "for i in students: # This prints all objects in students. \n",
    "    print(i)"
   ]
  },
  {
   "cell_type": "code",
   "execution_count": 19,
   "id": "40b6eddb",
   "metadata": {},
   "outputs": [
    {
     "name": "stdout",
     "output_type": "stream",
     "text": [
      "0\n",
      "2\n",
      "4\n",
      "6\n",
      "8\n",
      "10\n",
      "12\n",
      "14\n",
      "16\n",
      "18\n"
     ]
    }
   ],
   "source": [
    "for i in range(0, 20, 2): \n",
    "    print(i) # prints even numbers from 0-18(not including 20.)"
   ]
  },
  {
   "cell_type": "markdown",
   "id": "5ccf9d06",
   "metadata": {},
   "source": [
    "# While Loops\n",
    "\n",
    "    Another form of loops!"
   ]
  },
  {
   "cell_type": "code",
   "execution_count": 20,
   "id": "efe8c63a",
   "metadata": {},
   "outputs": [
    {
     "name": "stdout",
     "output_type": "stream",
     "text": [
      "6\n",
      "7\n",
      "8\n",
      "9\n",
      "10\n",
      "11\n"
     ]
    }
   ],
   "source": [
    "counter = 5\n",
    "while counter < 11:\n",
    "    counter = counter + 1\n",
    "    print(counter) # This is pretty straightforward. "
   ]
  },
  {
   "cell_type": "code",
   "execution_count": null,
   "id": "6be14874",
   "metadata": {},
   "outputs": [],
   "source": [
    "counter = 5\n",
    "while counter < 10:\n",
    "    print(counter) # Now, I am obviously not going to run this. If I do, it will print 5 infinitely many times, and my computer will crash. "
   ]
  }
 ],
 "metadata": {
  "kernelspec": {
   "display_name": "Python 3",
   "language": "python",
   "name": "python3"
  },
  "language_info": {
   "codemirror_mode": {
    "name": "ipython",
    "version": 3
   },
   "file_extension": ".py",
   "mimetype": "text/x-python",
   "name": "python",
   "nbconvert_exporter": "python",
   "pygments_lexer": "ipython3",
   "version": "3.8.8"
  }
 },
 "nbformat": 4,
 "nbformat_minor": 5
}
