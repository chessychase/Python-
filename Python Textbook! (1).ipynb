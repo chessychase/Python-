{
 "cells": [
  {
   "cell_type": "markdown",
   "id": "d4e99930",
   "metadata": {},
   "source": [
    "# Welcome to Python!\n",
    "\n",
    "    Hello, and welcome to python! I hope you will learn a lot of Python along the way. Let's get started!"
   ]
  },
  {
   "cell_type": "markdown",
   "id": "f955621c",
   "metadata": {},
   "source": [
    "# Variables!\n",
    "\n",
    "    We will start about learning how to change values of different variables. "
   ]
  },
  {
   "cell_type": "code",
   "execution_count": 2,
   "id": "5ca0d57b",
   "metadata": {},
   "outputs": [
    {
     "name": "stdout",
     "output_type": "stream",
     "text": [
      "17\n"
     ]
    }
   ],
   "source": [
    "Aditi_Age = 16 # This was your age last year. Here, we are defining the variable, Aditi_Age. \n",
    "Aditi_Age = 17 # Now, since a year has passed we change the value of the variable. Python always chooses the most recent value of your variable.  \n",
    "print(Aditi_Age) # Here, we print your current age. "
   ]
  },
  {
   "cell_type": "markdown",
   "id": "38ecbf28",
   "metadata": {},
   "source": [
    "# Multiple Assignment\n",
    "\n",
    "    Again, this is pretty simple and extremely basic python. "
   ]
  },
  {
   "cell_type": "code",
   "execution_count": 4,
   "id": "4c30c5ff",
   "metadata": {},
   "outputs": [
    {
     "name": "stdout",
     "output_type": "stream",
     "text": [
      "Ashvant\n",
      "Aditi\n",
      "Daniel\n"
     ]
    }
   ],
   "source": [
    "person1, person2, person3 = \"Ashvant\", \"Aditi\", \"Daniel\" # The quotation marks represent strings. This is multiple assignment meaning that person1 is Ashvant, person2 is Aditi, and person3 is Daniel. \n",
    "print(person1)\n",
    "print(person2)\n",
    "print(person3)"
   ]
  },
  {
   "cell_type": "markdown",
   "id": "46419ffa",
   "metadata": {},
   "source": [
    "# Math in Python\n",
    "\n",
    "     We will be learning simple arithmetic, exponents, and modular arithmetic(remainder), which we will do in python. "
   ]
  },
  {
   "cell_type": "code",
   "execution_count": 11,
   "id": "6e0ce519",
   "metadata": {},
   "outputs": [
    {
     "name": "stdout",
     "output_type": "stream",
     "text": [
      "10\n",
      "9\n",
      "20\n",
      "2.0\n",
      "1125899906842624\n",
      "1\n"
     ]
    }
   ],
   "source": [
    "print(5+5) # This is just simple addition, I HOPE I don't have to explain this to you. \n",
    "print(10-1) # This is just simple subtraction, I HOPE I don't have to explain this to you. \n",
    "print(5*4) # This is just simple multiplication, I HOPE I don't have to explain this to you.\n",
    "print(8/4) # This is just simple division, I HOPE I don't have to explain this to you.\n",
    "print(2**50) # This number is enormous. This represents 2^50.\n",
    "print(21%4) # This is just the remainder of 21/4. "
   ]
  },
  {
   "cell_type": "markdown",
   "id": "26b73205",
   "metadata": {},
   "source": [
    "# Strings\n",
    "\n",
    "    Strings are usually known as sequences of letters/characters. "
   ]
  },
  {
   "cell_type": "markdown",
   "id": "a771d3f3",
   "metadata": {},
   "source": [
    "### Adding Strings"
   ]
  },
  {
   "cell_type": "code",
   "execution_count": 1,
   "id": "849ca900",
   "metadata": {},
   "outputs": [
    {
     "name": "stdout",
     "output_type": "stream",
     "text": [
      "Ashvant Daniel\n"
     ]
    }
   ],
   "source": [
    "firstName = \"Ashvant\" # The Quotation Marks represent a string. \n",
    "lastName = \"Daniel\"\n",
    "fullName = firstName + \" \" + lastName # This adds the two strings together, and puts a space in between my first and last name. \n",
    "print(fullName)"
   ]
  },
  {
   "cell_type": "markdown",
   "id": "099a2a7e",
   "metadata": {},
   "source": [
    "### Indexes"
   ]
  },
  {
   "cell_type": "code",
   "execution_count": 15,
   "id": "e0ca4554",
   "metadata": {},
   "outputs": [
    {
     "name": "stdout",
     "output_type": "stream",
     "text": [
      "e\n",
      " \n",
      "Hello\n",
      "World\n"
     ]
    }
   ],
   "source": [
    "Hi = \"Hello World\"\n",
    "print(Hi[1]) # This is an index. The 0th Index is the first character, 1st Index is the second character and so on. Index 1 is the second character which is e.\n",
    "print(Hi[5]) # The 5th Index, will be the sixth character which is just a space. As shown in results, it is blank, below the e.\n",
    "print(Hi[0:5]) # When we have indexes in the form [x:y], we go from the xth index to the (y-1)th index. The 0th Index is H, and the 4th Index is o, so it results in Hello.\n",
    "print(Hi[6:]) # When we have indexes in the form [x:], then we go from the xth index, till the last character. The 6th Index is W, so it results in World. \n"
   ]
  },
  {
   "cell_type": "markdown",
   "id": "9a3b39fd",
   "metadata": {},
   "source": [
    "# Placeholders!\n",
    "\n",
    "   These can be especially helpful when sending loads of emails, where all you need to do is change the name of the recipient. "
   ]
  },
  {
   "cell_type": "code",
   "execution_count": 21,
   "id": "85fc915a",
   "metadata": {},
   "outputs": [
    {
     "name": "stdout",
     "output_type": "stream",
     "text": [
      "Hello Ashvant, you are a pro.\n"
     ]
    }
   ],
   "source": [
    "Pro = \"Hello %s, you are a pro.\" # %s is a placeholder(Only Works for s!), which can be replaced by anything. \n",
    "print(Pro%(\"Ashvant\")) # Here it is replaced with me, the absolute pro!"
   ]
  },
  {
   "cell_type": "markdown",
   "id": "6ddbb3f5",
   "metadata": {},
   "source": [
    "# Lists!\n",
    "\n",
    "    Lists are used to store collections of items. "
   ]
  },
  {
   "cell_type": "code",
   "execution_count": 24,
   "id": "ada99ce9",
   "metadata": {},
   "outputs": [
    {
     "name": "stdout",
     "output_type": "stream",
     "text": [
      "cheese\n"
     ]
    }
   ],
   "source": [
    "shopping = [\"bread\",\"milk\",\"cheese\",\"muffins\"]\n",
    "print(shopping[2]) # We already know indexes, 0th Index is bread, 1st Index is milk, and so on.  "
   ]
  },
  {
   "cell_type": "markdown",
   "id": "b1a94116",
   "metadata": {},
   "source": [
    "# List Functions!"
   ]
  },
  {
   "cell_type": "markdown",
   "id": "dec4dae5",
   "metadata": {},
   "source": [
    "### Deleting Items in Lists"
   ]
  },
  {
   "cell_type": "code",
   "execution_count": 25,
   "id": "802fad52",
   "metadata": {},
   "outputs": [
    {
     "name": "stdout",
     "output_type": "stream",
     "text": [
      "['bread', 'milk', 'cheese', 'apples']\n"
     ]
    }
   ],
   "source": [
    "shopping = [\"bread\",\"milk\",\"cheese\",\"muffins\",\"apples\"] # This is a list. \n",
    "del shopping[3] # This deletes Index 3 in Shopping which is muffin.\n",
    "print(shopping)"
   ]
  },
  {
   "cell_type": "markdown",
   "id": "739226ad",
   "metadata": {},
   "source": [
    "### Finding the Number of Items in a List"
   ]
  },
  {
   "cell_type": "code",
   "execution_count": null,
   "id": "7546e45f",
   "metadata": {},
   "outputs": [],
   "source": []
  }
 ],
 "metadata": {
  "kernelspec": {
   "display_name": "Python 3",
   "language": "python",
   "name": "python3"
  },
  "language_info": {
   "codemirror_mode": {
    "name": "ipython",
    "version": 3
   },
   "file_extension": ".py",
   "mimetype": "text/x-python",
   "name": "python",
   "nbconvert_exporter": "python",
   "pygments_lexer": "ipython3",
   "version": "3.8.8"
  }
 },
 "nbformat": 4,
 "nbformat_minor": 5
}
